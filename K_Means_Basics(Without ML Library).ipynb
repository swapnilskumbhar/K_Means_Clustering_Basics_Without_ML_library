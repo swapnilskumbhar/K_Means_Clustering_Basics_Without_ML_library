{
 "cells": [
  {
   "cell_type": "markdown",
   "metadata": {},
   "source": [
    "# K Means Clustering Basics (Without ML Library)"
   ]
  },
  {
   "cell_type": "markdown",
   "metadata": {},
   "source": [
    "K Means clustering falls under unsupervised Machine Learning category of algorithms, in which no labels are associated with data yet you have to obtain insight from it. Cluster means the collection of the datapoints who have similarities in some aspects or accoding to some features and K is the number of clusters. So basically we have to make K clusters according to features from the data. To run this algorithm you should have the value of K and data. Here we will consider data shown as,"
   ]
  },
  {
   "cell_type": "markdown",
   "metadata": {},
   "source": [
    "    screen_size,RAM,model\n",
    "    4.7,2,IPHONE6S\n",
    "    5.5,2,IPHONE6S+\n",
    "    5.1,4,SGS7\n",
    "    6.41,8,OP6T\n",
    "    13,8,MBAir\n",
    "    15.6,4,Dell15\n",
    "    11.6,2,IBallCompbook\n",
    "    13.5,8,MicrosoftSurface"
   ]
  },
  {
   "cell_type": "markdown",
   "metadata": {},
   "source": [
    "Above shown data is in the comma separated file Laptop_mobile_data.csv which contains the screen sizes and ammount of RAM that is available in the device. Based on which we will cluster them into two groups one is Laptop and other one is mobile. Our algorithm has to run on this data with the value of K=2 and should correctly cluster the data into 2 clusters."
   ]
  },
  {
   "cell_type": "markdown",
   "metadata": {},
   "source": [
    "But First lets collect and plot our data from a csv file,"
   ]
  },
  {
   "cell_type": "code",
   "execution_count": 1,
   "metadata": {},
   "outputs": [],
   "source": [
    "import pandas as pd\n",
    "import numpy as np\n",
    "import matplotlib.pyplot as plt\n",
    "import math\n",
    "\n",
    "def plot_data(data,colour):\n",
    "    for single_point in data:\n",
    "        plt.scatter(single_point[0],single_point[1], color=colour)\n",
    "def collect_data():\n",
    "    data_laptop_mobile = pd.read_csv(\"Laptop_mobile_data.csv\")\n",
    "    screen_sizes = [row[\"screen_size\"] for i, row in data_laptop_mobile.iterrows()]\n",
    "    ram_sizes = [row[\"RAM\"] for i, row in data_laptop_mobile.iterrows()]\n",
    "    return zip(ram_sizes,screen_sizes)\n",
    "laptop_mobile_data = collect_data()\n",
    "plot_data(list(laptop_mobile_data),colour=\"k\")"
   ]
  },
  {
   "cell_type": "markdown",
   "metadata": {},
   "source": [
    "We know beforehand that those top 4 dots are laptops and below 4 are mobiles because of the screen sizes, laptops generally have greater screen sizes than mobiles. But our algorithm does not know that and we dont have the labes saying that this is the laptop data and this is the mobile data. So our algorithm has to learn it. But first let us discuss the concept of the distance between two points, consider the two points (1,1) and (2,2) as shown below,"
   ]
  },
  {
   "cell_type": "code",
   "execution_count": 2,
   "metadata": {},
   "outputs": [
    {
     "data": {
      "text/plain": [
       "<matplotlib.collections.PathCollection at 0x7fe2984d1940>"
      ]
     },
     "execution_count": 2,
     "metadata": {},
     "output_type": "execute_result"
    },
    {
     "data": {
      "image/png": "[encoded data removed]",
      "text/plain": [
       "<Figure size 432x288 with 1 Axes>"
      ]
     },
     "metadata": {
      "needs_background": "light"
     },
     "output_type": "display_data"
    }
   ],
   "source": [
    "plt.scatter(1,1, marker=\"*\",s=150,color=\"k\" )\n",
    "plt.scatter(2,2, marker=\"+\",s=150,color=\"k\" )"
   ]
  },
  {
   "cell_type": "markdown",
   "metadata": {},
   "source": [
    "For finding the distance you just have to subtract X coordinate of both points, square it add it into square of subtraction of Y coordinates and take the square root you will get the distance. as given by the following formula,"
   ]
  },
  {
   "cell_type": "markdown",
   "metadata": {},
   "source": [
    "distance = $\\sqrt{(X_1-X_2)^2 + (Y_1-Y_2)^2}$"
   ]
  },
  {
   "cell_type": "markdown",
   "metadata": {},
   "source": [
    "As the distance between two points increases the similarity between them decreases i.e. the points are more similar if the distance between them is less and vice versa. There is one more thing that we need to discuss before starting the discussion of the actual algorithm and that is centroid. For understandig centroid lets consider that you want to speen a notebook on your index finger. So while spinning what is the point of contact between your finger and notebook ? that point is the centroid of the notebook which is also known as centre of mass. So here in our case the centroid is the centre of mass point of a cluster whos value is mean value of all the points in the clusters."
   ]
  },
  {
   "cell_type": "markdown",
   "metadata": {},
   "source": [
    "Now we are ready to discuss the K_means algorithm, following are the steps involved into K_Means algorithm,\n",
    "1. Define the number of clusters i.e. value of the K (In our case the value of K is 2)\n",
    "2. Initialize K number of centroids randomly for k clusters\n",
    "3. Calculate the distance of all the points from k centroids\n",
    "4. A point belongs to a cluster if the distance between its centroid and point is minimum comapared to same with other clusters centroid\n",
    "5. After iterating through all the points decide new centroids as the mean of all the points in the cluster\n",
    "6. repeat step 3,4 and 5 till centroids does not chage its cordinates that means we have found our optimal centroids."
   ]
  },
  {
   "cell_type": "markdown",
   "metadata": {},
   "source": [
    "Now coding time,"
   ]
  },
  {
   "cell_type": "code",
   "execution_count": 3,
   "metadata": {},
   "outputs": [
    {
     "data": {
      "image/png": "[encoded data removed]",
      "text/plain": [
       "<Figure size 432x288 with 1 Axes>"
      ]
     },
     "metadata": {
      "needs_background": "light"
     },
     "output_type": "display_data"
    }
   ],
   "source": [
    "def calculate_euclidean_distance(point1,point2):\n",
    "    return math.pow(math.pow(point1[0]-point2[0],2) + math.pow(point1[1]-point2[1],2),0.5)\n",
    "\n",
    "def k_means_calculate_new_centroids(centroid1, centroid2, data,points_in_cluster1,points_in_cluster2):\n",
    "    for single_point in data:\n",
    "        ed1 = calculate_euclidean_distance(centroid1,single_point)\n",
    "        ed2 = calculate_euclidean_distance(centroid2,single_point)\n",
    "        if(ed1 < ed2):\n",
    "            points_in_cluster1.append(single_point)\n",
    "        else:\n",
    "            points_in_cluster2.append(single_point)\n",
    "    if(len(points_in_cluster1) > 0):\n",
    "        centroid1[0] = sum([s1[0] for s1 in points_in_cluster1]) / len(points_in_cluster1)\n",
    "        centroid1[1] = sum([s1[1] for s1 in points_in_cluster1]) / len(points_in_cluster1)\n",
    "    if(len(points_in_cluster2) > 0):\n",
    "        centroid2[0] = sum([s1[0] for s1 in points_in_cluster2]) / len(points_in_cluster2)\n",
    "        centroid2[1] = sum([s1[1] for s1 in points_in_cluster2]) / len(points_in_cluster2)\n",
    "    return data, centroid1, centroid2,points_in_cluster1,points_in_cluster2\n",
    "\n",
    "def k_means_core_algo(centroid1, centroid2, data):\n",
    "    for j in range(5):\n",
    "        data,centroid1, centroid2, points_in_cluster1, points_in_cluster2 = k_means_calculate_new_centroids(centroid1, centroid2, list(data),[],[])\n",
    "    return centroid1,centroid2, points_in_cluster1, points_in_cluster2\n",
    "    \n",
    "laptop_mobile_data = collect_data()\n",
    "\n",
    "centroid1 = [1,1]\n",
    "centroid2 = [2,2]\n",
    "\n",
    "centroid1, centroid2,points_in_cluster1, points_in_cluster2 = k_means_core_algo(centroid1, centroid2, laptop_mobile_data)\n",
    "\n",
    "plt.scatter(centroid1[0],centroid1[1],color=\"blue\")\n",
    "plt.scatter(centroid2[0],centroid2[1],color=\"blue\")\n",
    "\n",
    "plot_data(points_in_cluster1,colour=\"red\")\n",
    "plot_data(points_in_cluster2,colour=\"green\")\n"
   ]
  },
  {
   "cell_type": "markdown",
   "metadata": {},
   "source": [
    "The blue dots are the centroids of the 2 clusters. As we can see our program correctly identified the 2 clusters. The upper cluster is for laptops and below cluster is for mobiles. Now let us take look at what happens as each iteration gets completed. For that lets start from the initial position of the centroids which are drawn below in yellow colour in the following graph."
   ]
  },
  {
   "cell_type": "code",
   "execution_count": 4,
   "metadata": {},
   "outputs": [
    {
     "data": {
      "text/plain": [
       "<matplotlib.collections.PathCollection at 0x7fe2983df4e0>"
      ]
     },
     "execution_count": 4,
     "metadata": {},
     "output_type": "execute_result"
    },
    {
     "data": {
      "image/png": "[encoded data removed]",
      "text/plain": [
       "<Figure size 432x288 with 1 Axes>"
      ]
     },
     "metadata": {
      "needs_background": "light"
     },
     "output_type": "display_data"
    }
   ],
   "source": [
    "sample_data = collect_data()\n",
    "plot_data(sample_data,colour=\"k\")\n",
    "\n",
    "plt.scatter(1,1,color=\"Yellow\")\n",
    "plt.scatter(2,2,color=\"Yellow\")"
   ]
  },
  {
   "cell_type": "markdown",
   "metadata": {},
   "source": [
    "As you can see initially our centroids were nowhere near expected centroids, so lets see the output after one iteration,"
   ]
  },
  {
   "cell_type": "code",
   "execution_count": 5,
   "metadata": {},
   "outputs": [
    {
     "data": {
      "text/plain": [
       "<matplotlib.collections.PathCollection at 0x7fe298356550>"
      ]
     },
     "execution_count": 5,
     "metadata": {},
     "output_type": "execute_result"
    },
    {
     "data": {
      "image/png": "[encoded data removed]",
      "text/plain": [
       "<Figure size 432x288 with 1 Axes>"
      ]
     },
     "metadata": {
      "needs_background": "light"
     },
     "output_type": "display_data"
    }
   ],
   "source": [
    "\n",
    "data_in_centroid2 = [(2, 4.7), (2, 5.5), (4, 5.1), (8, 6.41), (8, 13.0), (4, 15.6), (2, 11.6), (8, 13.5)]\n",
    "plot_data(data_in_centroid2,colour=\"green\")\n",
    "plt.scatter(1,1,color=\"Yellow\")\n",
    "plt.scatter(4.75 ,9.42,color=\"Yellow\")"
   ]
  },
  {
   "cell_type": "markdown",
   "metadata": {},
   "source": [
    "As you can see after first iteration all the points were near to centroid 2 than centroid 1. So cluster 1 does not have any point and cluster 2 have all the points also after 1st iteration new centroid gets assigned as the mean of all the points in the cluster so new centroids become [1,1] and [4.75,9.42] as shown in above figure.  "
   ]
  },
  {
   "cell_type": "markdown",
   "metadata": {},
   "source": [
    "Lets see the same output after 2nd iteration,"
   ]
  },
  {
   "cell_type": "code",
   "execution_count": 6,
   "metadata": {},
   "outputs": [
    {
     "data": {
      "text/plain": [
       "<matplotlib.collections.PathCollection at 0x7fe298315080>"
      ]
     },
     "execution_count": 6,
     "metadata": {},
     "output_type": "execute_result"
    },
    {
     "data": {
      "image/png": "[encoded data removed]",
      "text/plain": [
       "<Figure size 432x288 with 1 Axes>"
      ]
     },
     "metadata": {
      "needs_background": "light"
     },
     "output_type": "display_data"
    }
   ],
   "source": [
    "data_in_centroid1 = [(2, 4.7), (2, 5.5)]\n",
    "data_in_centroid2 = [(4, 5.1), (8, 6.41), (8, 13.0), (4, 15.6), (2, 11.6), (8, 13.5)]\n",
    "plot_data(data_in_centroid2,colour=\"green\")\n",
    "plot_data(data_in_centroid1,colour=\"red\")\n",
    "plt.scatter(2.0, 5.1,color=\"Yellow\")\n",
    "plt.scatter(5.6 ,8.6,color=\"Yellow\")"
   ]
  },
  {
   "cell_type": "markdown",
   "metadata": {},
   "source": [
    "As you see we got 2 points in cluster 1 as they are closer to centroid1 than centroid2. and our new centroid becomes [2,5.1],[5.6,8.6]."
   ]
  },
  {
   "cell_type": "markdown",
   "metadata": {},
   "source": [
    "Now lets see the output after 3rd iteration,"
   ]
  },
  {
   "cell_type": "code",
   "execution_count": 7,
   "metadata": {
    "scrolled": true
   },
   "outputs": [
    {
     "data": {
      "text/plain": [
       "<matplotlib.collections.PathCollection at 0x7fe29828ae48>"
      ]
     },
     "execution_count": 7,
     "metadata": {},
     "output_type": "execute_result"
    },
    {
     "data": {
      "image/png": "[encoded data removed]",
      "text/plain": [
       "<Figure size 432x288 with 1 Axes>"
      ]
     },
     "metadata": {
      "needs_background": "light"
     },
     "output_type": "display_data"
    }
   ],
   "source": [
    "data_in_centroid1 = [(2, 4.7), (2, 5.5), (4, 5.1), (8, 6.41)]\n",
    "data_in_centroid2 = [(8, 13.0), (4, 15.6), (2, 11.6), (8, 13.5)]\n",
    "plot_data(data_in_centroid2,colour=\"green\")\n",
    "plot_data(data_in_centroid1,colour=\"red\")\n",
    "plt.scatter(4.0, 5.4275,color=\"Yellow\")\n",
    "plt.scatter(5.5, 13.425,color=\"Yellow\")"
   ]
  },
  {
   "cell_type": "markdown",
   "metadata": {},
   "source": [
    "As you can see after 3rd iteration we get our final output as expected. From here on our centroids does not change with the further iterations so now it is time to stop the calculations."
   ]
  },
  {
   "cell_type": "markdown",
   "metadata": {},
   "source": [
    "Here we have considered a very basic example about K means clustering to understand the basics of the algorithm. Further I would encourage you to see more examples <a href=\"https://github.com/llSourcell/k_means_clustering\">here</a>"
   ]
  }
 ],
 "metadata": {
  "kernelspec": {
   "display_name": "Python 3",
   "language": "python",
   "name": "python3"
  },
  "language_info": {
   "codemirror_mode": {
    "name": "ipython",
    "version": 3
   },
   "file_extension": ".py",
   "mimetype": "text/x-python",
   "name": "python",
   "nbconvert_exporter": "python",
   "pygments_lexer": "ipython3",
   "version": "3.6.7"
  }
 },
 "nbformat": 4,
 "nbformat_minor": 2
}
